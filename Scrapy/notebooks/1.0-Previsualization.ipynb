{
 "cells": [
  {
   "cell_type": "code",
   "execution_count": 1,
   "metadata": {},
   "outputs": [],
   "source": [
    "import pandas as pd\n",
    "\n",
    "df = pd.read_csv('../data/raw/prosettings.csv')"
   ]
  },
  {
   "cell_type": "code",
   "execution_count": 2,
   "metadata": {},
   "outputs": [],
   "source": [
    "%run pandasAPI.ipynb"
   ]
  },
  {
   "cell_type": "code",
   "execution_count": 17,
   "metadata": {},
   "outputs": [
    {
     "name": "stdout",
     "output_type": "stream",
     "text": [
      "ProSettings Shape: (492, 5)\n"
     ]
    },
    {
     "data": {
      "text/html": [
       "<div>\n",
       "<style scoped>\n",
       "    .dataframe tbody tr th:only-of-type {\n",
       "        vertical-align: middle;\n",
       "    }\n",
       "\n",
       "    .dataframe tbody tr th {\n",
       "        vertical-align: top;\n",
       "    }\n",
       "\n",
       "    .dataframe thead th {\n",
       "        text-align: right;\n",
       "    }\n",
       "</style>\n",
       "<table border=\"1\" class=\"dataframe\">\n",
       "  <thead>\n",
       "    <tr style=\"text-align: right;\">\n",
       "      <th></th>\n",
       "      <th>name</th>\n",
       "      <th>country</th>\n",
       "      <th>mouse</th>\n",
       "      <th>dpi</th>\n",
       "      <th>sens</th>\n",
       "    </tr>\n",
       "  </thead>\n",
       "  <tbody>\n",
       "    <tr>\n",
       "      <th>0</th>\n",
       "      <td>ScreaM</td>\n",
       "      <td>Belgium</td>\n",
       "      <td>Logitech G Pro X Superlight Black,Logitech G P...</td>\n",
       "      <td>400,400</td>\n",
       "      <td>0.725,2.5</td>\n",
       "    </tr>\n",
       "    <tr>\n",
       "      <th>1</th>\n",
       "      <td>yay</td>\n",
       "      <td>United States</td>\n",
       "      <td>Logitech G Pro X Superlight Black,Logitech G P...</td>\n",
       "      <td>800,400</td>\n",
       "      <td>0.27,3.10</td>\n",
       "    </tr>\n",
       "    <tr>\n",
       "      <th>2</th>\n",
       "      <td>dev1ce</td>\n",
       "      <td>Denmark</td>\n",
       "      <td>Logitech G Pro X Superlight Magenta</td>\n",
       "      <td>400</td>\n",
       "      <td>1.90</td>\n",
       "    </tr>\n",
       "    <tr>\n",
       "      <th>3</th>\n",
       "      <td>mL7</td>\n",
       "      <td>Romania</td>\n",
       "      <td>Razer DeathAdder Essential</td>\n",
       "      <td>800</td>\n",
       "      <td>NaN</td>\n",
       "    </tr>\n",
       "    <tr>\n",
       "      <th>4</th>\n",
       "      <td>kennyS</td>\n",
       "      <td>France</td>\n",
       "      <td>Razer Deathadder V3 Pro Black</td>\n",
       "      <td>400</td>\n",
       "      <td>2.2</td>\n",
       "    </tr>\n",
       "    <tr>\n",
       "      <th>5</th>\n",
       "      <td>ropz</td>\n",
       "      <td>Estonia</td>\n",
       "      <td>ZOWIE EC2-CW</td>\n",
       "      <td>400</td>\n",
       "      <td>1.77</td>\n",
       "    </tr>\n",
       "    <tr>\n",
       "      <th>6</th>\n",
       "      <td>shroud</td>\n",
       "      <td>Canada</td>\n",
       "      <td>Logitech G303 Shroud Edition,Logitech G303 Shr...</td>\n",
       "      <td>400,400,400,400,400,400,400</td>\n",
       "      <td>2.4,0.77,3,7.5</td>\n",
       "    </tr>\n",
       "    <tr>\n",
       "      <th>7</th>\n",
       "      <td>XANTARES</td>\n",
       "      <td>Turkey</td>\n",
       "      <td>ZOWIE FK1-C</td>\n",
       "      <td>400</td>\n",
       "      <td>2</td>\n",
       "    </tr>\n",
       "    <tr>\n",
       "      <th>8</th>\n",
       "      <td>m0NESY</td>\n",
       "      <td>Russia</td>\n",
       "      <td>Logitech G Pro X Superlight Red</td>\n",
       "      <td>400</td>\n",
       "      <td>2</td>\n",
       "    </tr>\n",
       "    <tr>\n",
       "      <th>9</th>\n",
       "      <td>TenZ</td>\n",
       "      <td>Canada</td>\n",
       "      <td>Logitech G Pro X Superlight Black,Logitech G P...</td>\n",
       "      <td>1600,1600</td>\n",
       "      <td>0.2,0.477</td>\n",
       "    </tr>\n",
       "  </tbody>\n",
       "</table>\n",
       "</div>"
      ],
      "text/plain": [
       "       name        country                                              mouse   \n",
       "0    ScreaM        Belgium  Logitech G Pro X Superlight Black,Logitech G P...  \\\n",
       "1       yay  United States  Logitech G Pro X Superlight Black,Logitech G P...   \n",
       "2    dev1ce        Denmark                Logitech G Pro X Superlight Magenta   \n",
       "3       mL7        Romania                         Razer DeathAdder Essential   \n",
       "4    kennyS         France                      Razer Deathadder V3 Pro Black   \n",
       "5      ropz        Estonia                                       ZOWIE EC2-CW   \n",
       "6    shroud         Canada  Logitech G303 Shroud Edition,Logitech G303 Shr...   \n",
       "7  XANTARES         Turkey                                        ZOWIE FK1-C   \n",
       "8    m0NESY         Russia                    Logitech G Pro X Superlight Red   \n",
       "9      TenZ         Canada  Logitech G Pro X Superlight Black,Logitech G P...   \n",
       "\n",
       "                           dpi            sens  \n",
       "0                      400,400       0.725,2.5  \n",
       "1                      800,400       0.27,3.10  \n",
       "2                          400            1.90  \n",
       "3                          800             NaN  \n",
       "4                          400             2.2  \n",
       "5                          400            1.77  \n",
       "6  400,400,400,400,400,400,400  2.4,0.77,3,7.5  \n",
       "7                          400               2  \n",
       "8                          400               2  \n",
       "9                    1600,1600       0.2,0.477  "
      ]
     },
     "execution_count": 17,
     "metadata": {},
     "output_type": "execute_result"
    }
   ],
   "source": [
    "print(f'ProSettings Shape: {df.shape}')\n",
    "df.head(10)"
   ]
  },
  {
   "cell_type": "code",
   "execution_count": 4,
   "metadata": {},
   "outputs": [
    {
     "data": {
      "text/html": [
       "<div>\n",
       "<style scoped>\n",
       "    .dataframe tbody tr th:only-of-type {\n",
       "        vertical-align: middle;\n",
       "    }\n",
       "\n",
       "    .dataframe tbody tr th {\n",
       "        vertical-align: top;\n",
       "    }\n",
       "\n",
       "    .dataframe thead th {\n",
       "        text-align: right;\n",
       "    }\n",
       "</style>\n",
       "<table border=\"1\" class=\"dataframe\">\n",
       "  <thead>\n",
       "    <tr style=\"text-align: right;\">\n",
       "      <th></th>\n",
       "      <th>variable</th>\n",
       "      <th>n_missing</th>\n",
       "      <th>n_cases</th>\n",
       "      <th>pct_missing</th>\n",
       "    </tr>\n",
       "  </thead>\n",
       "  <tbody>\n",
       "    <tr>\n",
       "      <th>0</th>\n",
       "      <td>name</td>\n",
       "      <td>0</td>\n",
       "      <td>492</td>\n",
       "      <td>0.000000</td>\n",
       "    </tr>\n",
       "    <tr>\n",
       "      <th>1</th>\n",
       "      <td>country</td>\n",
       "      <td>0</td>\n",
       "      <td>492</td>\n",
       "      <td>0.000000</td>\n",
       "    </tr>\n",
       "    <tr>\n",
       "      <th>2</th>\n",
       "      <td>mouse</td>\n",
       "      <td>10</td>\n",
       "      <td>492</td>\n",
       "      <td>2.032520</td>\n",
       "    </tr>\n",
       "    <tr>\n",
       "      <th>3</th>\n",
       "      <td>dpi</td>\n",
       "      <td>4</td>\n",
       "      <td>492</td>\n",
       "      <td>0.813008</td>\n",
       "    </tr>\n",
       "    <tr>\n",
       "      <th>4</th>\n",
       "      <td>sens</td>\n",
       "      <td>101</td>\n",
       "      <td>492</td>\n",
       "      <td>20.528455</td>\n",
       "    </tr>\n",
       "  </tbody>\n",
       "</table>\n",
       "</div>"
      ],
      "text/plain": [
       "  variable  n_missing  n_cases  pct_missing\n",
       "0     name          0      492     0.000000\n",
       "1  country          0      492     0.000000\n",
       "2    mouse         10      492     2.032520\n",
       "3      dpi          4      492     0.813008\n",
       "4     sens        101      492    20.528455"
      ]
     },
     "execution_count": 4,
     "metadata": {},
     "output_type": "execute_result"
    }
   ],
   "source": [
    "df.missing.missing_variable_summary()"
   ]
  },
  {
   "cell_type": "code",
   "execution_count": 5,
   "metadata": {},
   "outputs": [
    {
     "data": {
      "image/png": "[encoded data removed]",
      "text/plain": [
       "<Figure size 640x480 with 1 Axes>"
      ]
     },
     "metadata": {},
     "output_type": "display_data"
    }
   ],
   "source": [
    "df.missing.missing_variable_plot()"
   ]
  },
  {
   "cell_type": "code",
   "execution_count": 10,
   "metadata": {},
   "outputs": [
    {
     "data": {
      "text/html": [
       "<div>\n",
       "<style scoped>\n",
       "    .dataframe tbody tr th:only-of-type {\n",
       "        vertical-align: middle;\n",
       "    }\n",
       "\n",
       "    .dataframe tbody tr th {\n",
       "        vertical-align: top;\n",
       "    }\n",
       "\n",
       "    .dataframe thead th {\n",
       "        text-align: right;\n",
       "    }\n",
       "</style>\n",
       "<table border=\"1\" class=\"dataframe\">\n",
       "  <thead>\n",
       "    <tr style=\"text-align: right;\">\n",
       "      <th></th>\n",
       "      <th>name</th>\n",
       "      <th>country</th>\n",
       "      <th>mouse</th>\n",
       "      <th>dpi</th>\n",
       "      <th>sens</th>\n",
       "    </tr>\n",
       "  </thead>\n",
       "  <tbody>\n",
       "    <tr>\n",
       "      <th>count</th>\n",
       "      <td>492</td>\n",
       "      <td>492</td>\n",
       "      <td>482</td>\n",
       "      <td>488</td>\n",
       "      <td>391</td>\n",
       "    </tr>\n",
       "    <tr>\n",
       "      <th>unique</th>\n",
       "      <td>491</td>\n",
       "      <td>55</td>\n",
       "      <td>115</td>\n",
       "      <td>30</td>\n",
       "      <td>193</td>\n",
       "    </tr>\n",
       "    <tr>\n",
       "      <th>top</th>\n",
       "      <td>steel</td>\n",
       "      <td>United States</td>\n",
       "      <td>Logitech G Pro X Superlight Black</td>\n",
       "      <td>800</td>\n",
       "      <td>0.3</td>\n",
       "    </tr>\n",
       "    <tr>\n",
       "      <th>freq</th>\n",
       "      <td>2</td>\n",
       "      <td>89</td>\n",
       "      <td>141</td>\n",
       "      <td>210</td>\n",
       "      <td>15</td>\n",
       "    </tr>\n",
       "  </tbody>\n",
       "</table>\n",
       "</div>"
      ],
      "text/plain": [
       "         name        country                              mouse  dpi sens\n",
       "count     492            492                                482  488  391\n",
       "unique    491             55                                115   30  193\n",
       "top     steel  United States  Logitech G Pro X Superlight Black  800  0.3\n",
       "freq        2             89                                141  210   15"
      ]
     },
     "execution_count": 10,
     "metadata": {},
     "output_type": "execute_result"
    }
   ],
   "source": [
    "df.describe()"
   ]
  },
  {
   "cell_type": "code",
   "execution_count": 16,
   "metadata": {},
   "outputs": [
    {
     "data": {
      "text/plain": [
       "name       object\n",
       "country    object\n",
       "mouse      object\n",
       "dpi        object\n",
       "sens       object\n",
       "dtype: object"
      ]
     },
     "execution_count": 16,
     "metadata": {},
     "output_type": "execute_result"
    }
   ],
   "source": [
    "df.dtypes"
   ]
  }
 ],
 "metadata": {
  "kernelspec": {
   "display_name": "web-scraping",
   "language": "python",
   "name": "python3"
  },
  "language_info": {
   "codemirror_mode": {
    "name": "ipython",
    "version": 3
   },
   "file_extension": ".py",
   "mimetype": "text/x-python",
   "name": "python",
   "nbconvert_exporter": "python",
   "pygments_lexer": "ipython3",
   "version": "3.11.3"
  },
  "orig_nbformat": 4,
  "vscode": {
   "interpreter": {
    "hash": "c3713f90cad9cb8c58073cd984ae1ded5a95349f4c49749b541cffadb6291591"
   }
  }
 },
 "nbformat": 4,
 "nbformat_minor": 2
}
