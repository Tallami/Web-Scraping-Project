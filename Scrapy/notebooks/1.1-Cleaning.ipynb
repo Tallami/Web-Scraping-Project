{
 "cells": [
  {
   "cell_type": "code",
   "execution_count": 1,
   "metadata": {},
   "outputs": [],
   "source": [
    "import pandas as pd\n",
    "import numpy as np\n",
    "\n",
    "df_preprocessed = pd.read_csv('../data/raw/prosettings.csv')"
   ]
  },
  {
   "attachments": {},
   "cell_type": "markdown",
   "metadata": {},
   "source": [
    "### Split Multiple Sens"
   ]
  },
  {
   "cell_type": "code",
   "execution_count": 2,
   "metadata": {},
   "outputs": [],
   "source": [
    "df_preprocessed['dpi'] = df_preprocessed['dpi'].str.split(',').str[0]\n",
    "df_preprocessed['sens'] = df_preprocessed['sens'].str.split(',').str[0]\n",
    "df_preprocessed['mouse'] = df_preprocessed['mouse'].str.split(',').str[0]"
   ]
  },
  {
   "attachments": {},
   "cell_type": "markdown",
   "metadata": {},
   "source": [
    "### Drop NaN"
   ]
  },
  {
   "cell_type": "code",
   "execution_count": 3,
   "metadata": {},
   "outputs": [
    {
     "data": {
      "text/plain": [
       "name         0\n",
       "country      0\n",
       "mouse       10\n",
       "dpi          4\n",
       "sens       101\n",
       "dtype: int64"
      ]
     },
     "execution_count": 3,
     "metadata": {},
     "output_type": "execute_result"
    }
   ],
   "source": [
    "df_preprocessed.isna().sum()"
   ]
  },
  {
   "cell_type": "code",
   "execution_count": 4,
   "metadata": {},
   "outputs": [],
   "source": [
    "df_preprocessed = df_preprocessed.replace('<NA>', np.nan)\n",
    "df_preprocessed = df_preprocessed.dropna(subset=['dpi', 'mouse'])"
   ]
  },
  {
   "attachments": {},
   "cell_type": "markdown",
   "metadata": {},
   "source": [
    "### Convert to Int and Float"
   ]
  },
  {
   "cell_type": "code",
   "execution_count": 5,
   "metadata": {},
   "outputs": [],
   "source": [
    "df_preprocessed['dpi'] = pd.to_numeric(df_preprocessed['dpi'], errors='coerce')\n",
    "df_preprocessed['dpi'] = df_preprocessed['dpi'].astype('Int64')"
   ]
  },
  {
   "cell_type": "code",
   "execution_count": 6,
   "metadata": {},
   "outputs": [],
   "source": [
    "df_preprocessed['sens'] = pd.to_numeric(df_preprocessed['sens'], errors='coerce')\n",
    "df_preprocessed['sens'] = df_preprocessed['sens'].astype(float)"
   ]
  },
  {
   "cell_type": "code",
   "execution_count": 7,
   "metadata": {},
   "outputs": [],
   "source": [
    "average_sens = df_preprocessed.groupby('dpi')['sens'].mean()\n",
    "\n",
    "df_preprocessed['sens'] = df_preprocessed['sens'].fillna(\n",
    "    df_preprocessed['dpi'].map(average_sens))\n",
    "df_preprocessed['sens'] = df_preprocessed['sens'].round(3)\n",
    "\n",
    "df_preprocessed = df_preprocessed.dropna(subset=['sens'])"
   ]
  },
  {
   "cell_type": "code",
   "execution_count": 8,
   "metadata": {},
   "outputs": [
    {
     "data": {
      "text/plain": [
       "name        object\n",
       "country     object\n",
       "mouse       object\n",
       "dpi          Int64\n",
       "sens       float64\n",
       "dtype: object"
      ]
     },
     "execution_count": 8,
     "metadata": {},
     "output_type": "execute_result"
    }
   ],
   "source": [
    "df_preprocessed.dtypes"
   ]
  },
  {
   "cell_type": "code",
   "execution_count": 9,
   "metadata": {},
   "outputs": [
    {
     "data": {
      "text/html": [
       "<div>\n",
       "<style scoped>\n",
       "    .dataframe tbody tr th:only-of-type {\n",
       "        vertical-align: middle;\n",
       "    }\n",
       "\n",
       "    .dataframe tbody tr th {\n",
       "        vertical-align: top;\n",
       "    }\n",
       "\n",
       "    .dataframe thead th {\n",
       "        text-align: right;\n",
       "    }\n",
       "</style>\n",
       "<table border=\"1\" class=\"dataframe\">\n",
       "  <thead>\n",
       "    <tr style=\"text-align: right;\">\n",
       "      <th></th>\n",
       "      <th>name</th>\n",
       "      <th>country</th>\n",
       "      <th>mouse</th>\n",
       "      <th>dpi</th>\n",
       "      <th>sens</th>\n",
       "    </tr>\n",
       "  </thead>\n",
       "  <tbody>\n",
       "    <tr>\n",
       "      <th>0</th>\n",
       "      <td>ScreaM</td>\n",
       "      <td>Belgium</td>\n",
       "      <td>Logitech G Pro X Superlight Black</td>\n",
       "      <td>400</td>\n",
       "      <td>0.725</td>\n",
       "    </tr>\n",
       "    <tr>\n",
       "      <th>1</th>\n",
       "      <td>yay</td>\n",
       "      <td>United States</td>\n",
       "      <td>Logitech G Pro X Superlight Black</td>\n",
       "      <td>800</td>\n",
       "      <td>0.270</td>\n",
       "    </tr>\n",
       "    <tr>\n",
       "      <th>2</th>\n",
       "      <td>dev1ce</td>\n",
       "      <td>Denmark</td>\n",
       "      <td>Logitech G Pro X Superlight Magenta</td>\n",
       "      <td>400</td>\n",
       "      <td>1.900</td>\n",
       "    </tr>\n",
       "    <tr>\n",
       "      <th>3</th>\n",
       "      <td>mL7</td>\n",
       "      <td>Romania</td>\n",
       "      <td>Razer DeathAdder Essential</td>\n",
       "      <td>800</td>\n",
       "      <td>0.617</td>\n",
       "    </tr>\n",
       "    <tr>\n",
       "      <th>4</th>\n",
       "      <td>kennyS</td>\n",
       "      <td>France</td>\n",
       "      <td>Razer Deathadder V3 Pro Black</td>\n",
       "      <td>400</td>\n",
       "      <td>2.200</td>\n",
       "    </tr>\n",
       "  </tbody>\n",
       "</table>\n",
       "</div>"
      ],
      "text/plain": [
       "     name        country                                mouse  dpi   sens\n",
       "0  ScreaM        Belgium    Logitech G Pro X Superlight Black  400  0.725\n",
       "1     yay  United States    Logitech G Pro X Superlight Black  800  0.270\n",
       "2  dev1ce        Denmark  Logitech G Pro X Superlight Magenta  400  1.900\n",
       "3     mL7        Romania           Razer DeathAdder Essential  800  0.617\n",
       "4  kennyS         France        Razer Deathadder V3 Pro Black  400  2.200"
      ]
     },
     "execution_count": 9,
     "metadata": {},
     "output_type": "execute_result"
    }
   ],
   "source": [
    "df_preprocessed.head()"
   ]
  },
  {
   "attachments": {},
   "cell_type": "markdown",
   "metadata": {},
   "source": [
    "### Save Processed Data"
   ]
  },
  {
   "cell_type": "code",
   "execution_count": 10,
   "metadata": {},
   "outputs": [],
   "source": [
    "df_preprocessed.to_csv('../data/processed/processed_prosettings.csv', sep=',', header=True, index=False)"
   ]
  }
 ],
 "metadata": {
  "kernelspec": {
   "display_name": "web-scraping",
   "language": "python",
   "name": "python3"
  },
  "language_info": {
   "codemirror_mode": {
    "name": "ipython",
    "version": 3
   },
   "file_extension": ".py",
   "mimetype": "text/x-python",
   "name": "python",
   "nbconvert_exporter": "python",
   "pygments_lexer": "ipython3",
   "version": "3.11.3"
  },
  "orig_nbformat": 4,
  "vscode": {
   "interpreter": {
    "hash": "c3713f90cad9cb8c58073cd984ae1ded5a95349f4c49749b541cffadb6291591"
   }
  }
 },
 "nbformat": 4,
 "nbformat_minor": 2
}
